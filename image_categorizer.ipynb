{
 "cells": [
  {
   "cell_type": "markdown",
   "metadata": {
    "id": "W9EJqf4T9a_1"
   },
   "source": [
    "<h1 dir=rtl align=center style=\"line-height:200%;font-family:vazir;color:#0099cc\">\n",
    "<font face=\"vazir\" color=\"#0099cc\">\n",
    "image categorizer\n",
    "</font>\n",
    "</h1>\n",
    "\n",
    "\n",
    "<p dir=rtl style=\"direction: rtl; text-align: justify; line-height:200%; font-family:vazir; font-size:medium\">\n",
    "<font face=\"vazir\" size=3>\n",
    "مجموعه‌داده‌ی این پروژه توسط <a href=\"https://torob.com/\" target=\"_blank\">ترب</a> جمع آوری شده است و شامل بخشی از داده‌های واقعی این وب‌سایت است. همان‌طور که می‌دانید ترب یک موتور جست‌وجوی خرید است که اطلاعات هر محصول را از فروشگاه‌های آنلاین مختلف گرد هم آورده و در یک صفحه‌ی واحد نمایش می‌دهد. بنابراین کاربران قادر خواهند بود به‌راحتی محصول موردنظرشان را پیدا کرده و فروشندگان مختلف آن را مقایسه کنند. یکی از مهم‌ترین نیازمندی‌های فنی چنین پلتفرمی، تشخیص خودکار اطلاعات محصولات است، زیرا پالایش دستی این حجم از داده و استخراج اطلاعات از آن‌ها امری بسیار زمان‌گیر و هزینه‌بر خواهد بود. شاید بتوان دسته‌بندی یک محصول را مهم‌ترین اطلاعات آن دانست، زیرا که در جست‌وجوپذیری آن نقش مهمی ایفا می‌کند. \n",
    "</font>\n",
    "</p>"
   ]
  },
  {
   "cell_type": "markdown",
   "metadata": {
    "id": "cs-csjvO9a_5"
   },
   "source": [
    "<h2 dir=rtl align=right style=\"line-height:200%;font-family:vazir;color:#0099cc\">\n",
    "<font face=\"vazir\" color=\"#0099cc\">\n",
    "مجموعه‌داده\n",
    "</font>\n",
    "</h2>\n",
    "\n",
    "<p dir=rtl style=\"direction: rtl; text-align: justify; line-height:200%; font-family:vazir; font-size:medium\">\n",
    "<font face=\"vazir\" size=3>\n",
    "به‌دلیل حجم بالای مجموعه‌داده آن را جداگانه از <a href=\"https://drive.google.com/file/d/1hZK1rshl4dJVEPkUPykU5cZs_ANyTWp-/view?usp=sharing\" target=\"_blank\">این لینک</a> دانلود کرده و فایل‌های داخل آن را استخراج می کنیم.  \n",
    "</font>\n",
    "</p>\n",
    "\n",
    "`!gdown 1hZK1rshl4dJVEPkUPykU5cZs_ANyTWp-`\n",
    "\n",
    "<p dir=rtl style=\"direction: rtl; text-align: justify; line-height:200%; font-family:vazir; font-size:medium\">\n",
    "<font face=\"vazir\" size=3>\n",
    "مجموعه‌داده‌ی این پروژه شامل ۱۱ دسته‌ی محصول مختلف است که تصاویر مربوط به نمونه‌های آموزشی هر دسته در داخل پوشه‌ای با نامی معادل با شناسه‌ی دسته در پوشه‌ی <code>train</code> قرار گرفته است. همچنین تصاویر مربوط به نمونه‌های آزمون در داخل پوشه‌ی <code>test</code> قرار دارد و مدل باید بتواند با ورودی گرفتن هر کدام از این تصاویر، دسته‌ی آن را تشخیص دهد.\n",
    "دسته‌های این محصولات و شناسه‌ی هر کدام در جدول زیر آمده است:‌\n",
    "</font>\n",
    "</p>\n",
    "\n",
    "<center>\n",
    "<div dir=rtl style=\"direction: rtl;line-height:200%;font-family:vazir;font-size:medium\">\n",
    "<font face=\"vazir\" size=3>\n",
    "\n",
    "| <b>شناسه‌ی دسته</b> | <b>عنوان دسته</b> |\n",
    "| :---: | :---: |\n",
    "| <code>0</code> | کاپشن، بارانی و پالتو مردانه |\n",
    "| <code>1</code> | سویشرت و هودی مردانه |\n",
    "| <code>2</code> | ساعت مچی عقربه‌ ای و دیجیتالی |\n",
    "| <code>3</code> | ساعت دیواری، رومیزی و تزیینی |\n",
    "| <code>4</code> | لوازم جانبی ساعت معمولی و هوشمند |\n",
    "| <code>5</code> | سویشرت و هودی خردسال و نوجوان |\n",
    "| <code>6</code> | کاپشن و پالتو خردسال و نوجوان |\n",
    "| <code>7</code> | سویشرت ورزشی مردانه |\n",
    "| <code>8</code> | سویشرت و شلوار ورزشی مردانه |\n",
    "| <code>9</code> | ساک و چرخ خرید |\n",
    "| <code>10</code> | چمدان و ساک |\n",
    "\n",
    "</font>\n",
    "</div>\n",
    "</center>"
   ]
  },
  {
   "cell_type": "code",
   "execution_count": 1,
   "metadata": {
    "colab": {
     "base_uri": "https://localhost:8080/"
    },
    "executionInfo": {
     "elapsed": 9302,
     "status": "ok",
     "timestamp": 1727289651257,
     "user": {
      "displayName": "Helia Ranjbar",
      "userId": "11969437618372335012"
     },
     "user_tz": -210
    },
    "id": "5Zzqq4eO9dOR",
    "outputId": "9f01276f-c754-48b2-e35c-36ea47623855"
   },
   "outputs": [
    {
     "name": "stdout",
     "output_type": "stream",
     "text": [
      "Downloading...\n",
      "From (original): https://drive.google.com/uc?id=1hZK1rshl4dJVEPkUPykU5cZs_ANyTWp-\n",
      "From (redirected): https://drive.google.com/uc?id=1hZK1rshl4dJVEPkUPykU5cZs_ANyTWp-&confirm=t&uuid=3c84cdc8-5123-4d4e-9358-f75c207dea8a\n",
      "To: /content/data.zip\n",
      "100% 272M/272M [00:04<00:00, 56.3MB/s]\n"
     ]
    }
   ],
   "source": [
    "!gdown 1hZK1rshl4dJVEPkUPykU5cZs_ANyTWp-"
   ]
  },
  {
   "cell_type": "code",
   "execution_count": 3,
   "metadata": {
    "executionInfo": {
     "elapsed": 5,
     "status": "ok",
     "timestamp": 1727289653828,
     "user": {
      "displayName": "Helia Ranjbar",
      "userId": "11969437618372335012"
     },
     "user_tz": -210
    },
    "id": "oHGMTg5I9a_7"
   },
   "outputs": [],
   "source": [
    "import pandas as pd\n",
    "import numpy as np\n",
    "import glob"
   ]
  },
  {
   "cell_type": "code",
   "execution_count": 4,
   "metadata": {
    "executionInfo": {
     "elapsed": 4,
     "status": "ok",
     "timestamp": 1727289653828,
     "user": {
      "displayName": "Helia Ranjbar",
      "userId": "11969437618372335012"
     },
     "user_tz": -210
    },
    "id": "XLOPXNwZMklw"
   },
   "outputs": [],
   "source": [
    "import os\n",
    "os.environ[\"KERAS_BACKEND\"] = \"tensorflow\""
   ]
  },
  {
   "cell_type": "code",
   "execution_count": 5,
   "metadata": {
    "colab": {
     "base_uri": "https://localhost:8080/"
    },
    "executionInfo": {
     "elapsed": 5289,
     "status": "ok",
     "timestamp": 1727289659113,
     "user": {
      "displayName": "Helia Ranjbar",
      "userId": "11969437618372335012"
     },
     "user_tz": -210
    },
    "id": "-5UEVmFOMmcf",
    "outputId": "2fa8ba42-cf60-4a7d-dd9a-37403eaa61ee"
   },
   "outputs": [
    {
     "name": "stdout",
     "output_type": "stream",
     "text": [
      "3.4.1\n"
     ]
    }
   ],
   "source": [
    "import keras\n",
    "print(keras.__version__)"
   ]
  },
  {
   "cell_type": "code",
   "execution_count": 6,
   "metadata": {
    "executionInfo": {
     "elapsed": 5771,
     "status": "ok",
     "timestamp": 1727289664863,
     "user": {
      "displayName": "Helia Ranjbar",
      "userId": "11969437618372335012"
     },
     "user_tz": -210
    },
    "id": "zm_K9MqnMoTY"
   },
   "outputs": [],
   "source": [
    "# Reading/Loading the dataset files\n",
    "!unzip data.zip > /dev/null 2>&1"
   ]
  },
  {
   "cell_type": "code",
   "execution_count": 7,
   "metadata": {
    "colab": {
     "base_uri": "https://localhost:8080/",
     "height": 423
    },
    "executionInfo": {
     "elapsed": 24,
     "status": "ok",
     "timestamp": 1727289664864,
     "user": {
      "displayName": "Helia Ranjbar",
      "userId": "11969437618372335012"
     },
     "user_tz": -210
    },
    "id": "hkisYNAc9bAB",
    "outputId": "ab5b515c-0259-4f67-a44f-af7a7e7b0e1d"
   },
   "outputs": [
    {
     "data": {
      "application/vnd.google.colaboratory.intrinsic+json": {
       "summary": "{\n  \"name\": \"df_train\",\n  \"rows\": 8825,\n  \"fields\": [\n    {\n      \"column\": \"full_path\",\n      \"properties\": {\n        \"dtype\": \"string\",\n        \"num_unique_values\": 8825,\n        \"samples\": [\n          \"train/8/CWgXsONzayO3FFsV.jpg\",\n          \"train/7/GIVzaXOyNAIf1s92.jpg\",\n          \"train/7/FQKdOubFJGTJRUJ5.jpg\"\n        ],\n        \"semantic_type\": \"\",\n        \"description\": \"\"\n      }\n    },\n    {\n      \"column\": \"cat_id\",\n      \"properties\": {\n        \"dtype\": \"category\",\n        \"num_unique_values\": 11,\n        \"samples\": [\n          \"9\",\n          \"10\",\n          \"3\"\n        ],\n        \"semantic_type\": \"\",\n        \"description\": \"\"\n      }\n    }\n  ]\n}",
       "type": "dataframe",
       "variable_name": "df_train"
      },
      "text/html": [
       "\n",
       "  <div id=\"df-d0df6ff5-a5b4-4de5-ab1c-bd11cd0aa613\" class=\"colab-df-container\">\n",
       "    <div>\n",
       "<style scoped>\n",
       "    .dataframe tbody tr th:only-of-type {\n",
       "        vertical-align: middle;\n",
       "    }\n",
       "\n",
       "    .dataframe tbody tr th {\n",
       "        vertical-align: top;\n",
       "    }\n",
       "\n",
       "    .dataframe thead th {\n",
       "        text-align: right;\n",
       "    }\n",
       "</style>\n",
       "<table border=\"1\" class=\"dataframe\">\n",
       "  <thead>\n",
       "    <tr style=\"text-align: right;\">\n",
       "      <th></th>\n",
       "      <th>full_path</th>\n",
       "      <th>cat_id</th>\n",
       "    </tr>\n",
       "  </thead>\n",
       "  <tbody>\n",
       "    <tr>\n",
       "      <th>0</th>\n",
       "      <td>train/10/Lc4T_hHgdLJG4tSw.jpg</td>\n",
       "      <td>10</td>\n",
       "    </tr>\n",
       "    <tr>\n",
       "      <th>1</th>\n",
       "      <td>train/10/XMMFQWDeUvILkNzx.jpg</td>\n",
       "      <td>10</td>\n",
       "    </tr>\n",
       "    <tr>\n",
       "      <th>2</th>\n",
       "      <td>train/10/REbLmHXY4ivSFAue.jpg</td>\n",
       "      <td>10</td>\n",
       "    </tr>\n",
       "    <tr>\n",
       "      <th>3</th>\n",
       "      <td>train/10/HI4IZyH0JecNhXDd.jpg</td>\n",
       "      <td>10</td>\n",
       "    </tr>\n",
       "    <tr>\n",
       "      <th>4</th>\n",
       "      <td>train/10/x-HYbSwspr3bTaUr.jpg</td>\n",
       "      <td>10</td>\n",
       "    </tr>\n",
       "    <tr>\n",
       "      <th>...</th>\n",
       "      <td>...</td>\n",
       "      <td>...</td>\n",
       "    </tr>\n",
       "    <tr>\n",
       "      <th>8820</th>\n",
       "      <td>train/4/lRf5XYhYlWYJvoTp.jpg</td>\n",
       "      <td>4</td>\n",
       "    </tr>\n",
       "    <tr>\n",
       "      <th>8821</th>\n",
       "      <td>train/4/9ZDasNVuj4MNN9iV.jpg</td>\n",
       "      <td>4</td>\n",
       "    </tr>\n",
       "    <tr>\n",
       "      <th>8822</th>\n",
       "      <td>train/4/6J-UxhWoZXoLifLL.jpg</td>\n",
       "      <td>4</td>\n",
       "    </tr>\n",
       "    <tr>\n",
       "      <th>8823</th>\n",
       "      <td>train/4/d_v4w4C5C2LQ2LeW.jpg</td>\n",
       "      <td>4</td>\n",
       "    </tr>\n",
       "    <tr>\n",
       "      <th>8824</th>\n",
       "      <td>train/4/S89A8sIv3tDw_Bz_.jpg</td>\n",
       "      <td>4</td>\n",
       "    </tr>\n",
       "  </tbody>\n",
       "</table>\n",
       "<p>8825 rows × 2 columns</p>\n",
       "</div>\n",
       "    <div class=\"colab-df-buttons\">\n",
       "\n",
       "  <div class=\"colab-df-container\">\n",
       "    <button class=\"colab-df-convert\" onclick=\"convertToInteractive('df-d0df6ff5-a5b4-4de5-ab1c-bd11cd0aa613')\"\n",
       "            title=\"Convert this dataframe to an interactive table.\"\n",
       "            style=\"display:none;\">\n",
       "\n",
       "  <svg xmlns=\"http://www.w3.org/2000/svg\" height=\"24px\" viewBox=\"0 -960 960 960\">\n",
       "    <path d=\"M120-120v-720h720v720H120Zm60-500h600v-160H180v160Zm220 220h160v-160H400v160Zm0 220h160v-160H400v160ZM180-400h160v-160H180v160Zm440 0h160v-160H620v160ZM180-180h160v-160H180v160Zm440 0h160v-160H620v160Z\"/>\n",
       "  </svg>\n",
       "    </button>\n",
       "\n",
       "  <style>\n",
       "    .colab-df-container {\n",
       "      display:flex;\n",
       "      gap: 12px;\n",
       "    }\n",
       "\n",
       "    .colab-df-convert {\n",
       "      background-color: #E8F0FE;\n",
       "      border: none;\n",
       "      border-radius: 50%;\n",
       "      cursor: pointer;\n",
       "      display: none;\n",
       "      fill: #1967D2;\n",
       "      height: 32px;\n",
       "      padding: 0 0 0 0;\n",
       "      width: 32px;\n",
       "    }\n",
       "\n",
       "    .colab-df-convert:hover {\n",
       "      background-color: #E2EBFA;\n",
       "      box-shadow: 0px 1px 2px rgba(60, 64, 67, 0.3), 0px 1px 3px 1px rgba(60, 64, 67, 0.15);\n",
       "      fill: #174EA6;\n",
       "    }\n",
       "\n",
       "    .colab-df-buttons div {\n",
       "      margin-bottom: 4px;\n",
       "    }\n",
       "\n",
       "    [theme=dark] .colab-df-convert {\n",
       "      background-color: #3B4455;\n",
       "      fill: #D2E3FC;\n",
       "    }\n",
       "\n",
       "    [theme=dark] .colab-df-convert:hover {\n",
       "      background-color: #434B5C;\n",
       "      box-shadow: 0px 1px 3px 1px rgba(0, 0, 0, 0.15);\n",
       "      filter: drop-shadow(0px 1px 2px rgba(0, 0, 0, 0.3));\n",
       "      fill: #FFFFFF;\n",
       "    }\n",
       "  </style>\n",
       "\n",
       "    <script>\n",
       "      const buttonEl =\n",
       "        document.querySelector('#df-d0df6ff5-a5b4-4de5-ab1c-bd11cd0aa613 button.colab-df-convert');\n",
       "      buttonEl.style.display =\n",
       "        google.colab.kernel.accessAllowed ? 'block' : 'none';\n",
       "\n",
       "      async function convertToInteractive(key) {\n",
       "        const element = document.querySelector('#df-d0df6ff5-a5b4-4de5-ab1c-bd11cd0aa613');\n",
       "        const dataTable =\n",
       "          await google.colab.kernel.invokeFunction('convertToInteractive',\n",
       "                                                    [key], {});\n",
       "        if (!dataTable) return;\n",
       "\n",
       "        const docLinkHtml = 'Like what you see? Visit the ' +\n",
       "          '<a target=\"_blank\" href=https://colab.research.google.com/notebooks/data_table.ipynb>data table notebook</a>'\n",
       "          + ' to learn more about interactive tables.';\n",
       "        element.innerHTML = '';\n",
       "        dataTable['output_type'] = 'display_data';\n",
       "        await google.colab.output.renderOutput(dataTable, element);\n",
       "        const docLink = document.createElement('div');\n",
       "        docLink.innerHTML = docLinkHtml;\n",
       "        element.appendChild(docLink);\n",
       "      }\n",
       "    </script>\n",
       "  </div>\n",
       "\n",
       "\n",
       "<div id=\"df-c9fa2d7b-b6ba-4d99-bece-e8c96794f0e4\">\n",
       "  <button class=\"colab-df-quickchart\" onclick=\"quickchart('df-c9fa2d7b-b6ba-4d99-bece-e8c96794f0e4')\"\n",
       "            title=\"Suggest charts\"\n",
       "            style=\"display:none;\">\n",
       "\n",
       "<svg xmlns=\"http://www.w3.org/2000/svg\" height=\"24px\"viewBox=\"0 0 24 24\"\n",
       "     width=\"24px\">\n",
       "    <g>\n",
       "        <path d=\"M19 3H5c-1.1 0-2 .9-2 2v14c0 1.1.9 2 2 2h14c1.1 0 2-.9 2-2V5c0-1.1-.9-2-2-2zM9 17H7v-7h2v7zm4 0h-2V7h2v10zm4 0h-2v-4h2v4z\"/>\n",
       "    </g>\n",
       "</svg>\n",
       "  </button>\n",
       "\n",
       "<style>\n",
       "  .colab-df-quickchart {\n",
       "      --bg-color: #E8F0FE;\n",
       "      --fill-color: #1967D2;\n",
       "      --hover-bg-color: #E2EBFA;\n",
       "      --hover-fill-color: #174EA6;\n",
       "      --disabled-fill-color: #AAA;\n",
       "      --disabled-bg-color: #DDD;\n",
       "  }\n",
       "\n",
       "  [theme=dark] .colab-df-quickchart {\n",
       "      --bg-color: #3B4455;\n",
       "      --fill-color: #D2E3FC;\n",
       "      --hover-bg-color: #434B5C;\n",
       "      --hover-fill-color: #FFFFFF;\n",
       "      --disabled-bg-color: #3B4455;\n",
       "      --disabled-fill-color: #666;\n",
       "  }\n",
       "\n",
       "  .colab-df-quickchart {\n",
       "    background-color: var(--bg-color);\n",
       "    border: none;\n",
       "    border-radius: 50%;\n",
       "    cursor: pointer;\n",
       "    display: none;\n",
       "    fill: var(--fill-color);\n",
       "    height: 32px;\n",
       "    padding: 0;\n",
       "    width: 32px;\n",
       "  }\n",
       "\n",
       "  .colab-df-quickchart:hover {\n",
       "    background-color: var(--hover-bg-color);\n",
       "    box-shadow: 0 1px 2px rgba(60, 64, 67, 0.3), 0 1px 3px 1px rgba(60, 64, 67, 0.15);\n",
       "    fill: var(--button-hover-fill-color);\n",
       "  }\n",
       "\n",
       "  .colab-df-quickchart-complete:disabled,\n",
       "  .colab-df-quickchart-complete:disabled:hover {\n",
       "    background-color: var(--disabled-bg-color);\n",
       "    fill: var(--disabled-fill-color);\n",
       "    box-shadow: none;\n",
       "  }\n",
       "\n",
       "  .colab-df-spinner {\n",
       "    border: 2px solid var(--fill-color);\n",
       "    border-color: transparent;\n",
       "    border-bottom-color: var(--fill-color);\n",
       "    animation:\n",
       "      spin 1s steps(1) infinite;\n",
       "  }\n",
       "\n",
       "  @keyframes spin {\n",
       "    0% {\n",
       "      border-color: transparent;\n",
       "      border-bottom-color: var(--fill-color);\n",
       "      border-left-color: var(--fill-color);\n",
       "    }\n",
       "    20% {\n",
       "      border-color: transparent;\n",
       "      border-left-color: var(--fill-color);\n",
       "      border-top-color: var(--fill-color);\n",
       "    }\n",
       "    30% {\n",
       "      border-color: transparent;\n",
       "      border-left-color: var(--fill-color);\n",
       "      border-top-color: var(--fill-color);\n",
       "      border-right-color: var(--fill-color);\n",
       "    }\n",
       "    40% {\n",
       "      border-color: transparent;\n",
       "      border-right-color: var(--fill-color);\n",
       "      border-top-color: var(--fill-color);\n",
       "    }\n",
       "    60% {\n",
       "      border-color: transparent;\n",
       "      border-right-color: var(--fill-color);\n",
       "    }\n",
       "    80% {\n",
       "      border-color: transparent;\n",
       "      border-right-color: var(--fill-color);\n",
       "      border-bottom-color: var(--fill-color);\n",
       "    }\n",
       "    90% {\n",
       "      border-color: transparent;\n",
       "      border-bottom-color: var(--fill-color);\n",
       "    }\n",
       "  }\n",
       "</style>\n",
       "\n",
       "  <script>\n",
       "    async function quickchart(key) {\n",
       "      const quickchartButtonEl =\n",
       "        document.querySelector('#' + key + ' button');\n",
       "      quickchartButtonEl.disabled = true;  // To prevent multiple clicks.\n",
       "      quickchartButtonEl.classList.add('colab-df-spinner');\n",
       "      try {\n",
       "        const charts = await google.colab.kernel.invokeFunction(\n",
       "            'suggestCharts', [key], {});\n",
       "      } catch (error) {\n",
       "        console.error('Error during call to suggestCharts:', error);\n",
       "      }\n",
       "      quickchartButtonEl.classList.remove('colab-df-spinner');\n",
       "      quickchartButtonEl.classList.add('colab-df-quickchart-complete');\n",
       "    }\n",
       "    (() => {\n",
       "      let quickchartButtonEl =\n",
       "        document.querySelector('#df-c9fa2d7b-b6ba-4d99-bece-e8c96794f0e4 button');\n",
       "      quickchartButtonEl.style.display =\n",
       "        google.colab.kernel.accessAllowed ? 'block' : 'none';\n",
       "    })();\n",
       "  </script>\n",
       "</div>\n",
       "    </div>\n",
       "  </div>\n"
      ],
      "text/plain": [
       "                          full_path cat_id\n",
       "0     train/10/Lc4T_hHgdLJG4tSw.jpg     10\n",
       "1     train/10/XMMFQWDeUvILkNzx.jpg     10\n",
       "2     train/10/REbLmHXY4ivSFAue.jpg     10\n",
       "3     train/10/HI4IZyH0JecNhXDd.jpg     10\n",
       "4     train/10/x-HYbSwspr3bTaUr.jpg     10\n",
       "...                             ...    ...\n",
       "8820   train/4/lRf5XYhYlWYJvoTp.jpg      4\n",
       "8821   train/4/9ZDasNVuj4MNN9iV.jpg      4\n",
       "8822   train/4/6J-UxhWoZXoLifLL.jpg      4\n",
       "8823   train/4/d_v4w4C5C2LQ2LeW.jpg      4\n",
       "8824   train/4/S89A8sIv3tDw_Bz_.jpg      4\n",
       "\n",
       "[8825 rows x 2 columns]"
      ]
     },
     "execution_count": 7,
     "metadata": {},
     "output_type": "execute_result"
    }
   ],
   "source": [
    "dir_name = 'train/*/*'\n",
    "files = glob.glob(dir_name)\n",
    "df_train = pd.DataFrame({'full_path': files})\n",
    "\n",
    "df_train[['other','cat_id']] = df_train['full_path'].str.split('/', n=1 , expand=True)\n",
    "df_train[['cat_id' , 'other']] = df_train['cat_id'].str.split('/', n=1, expand=True)\n",
    "df_train.drop(columns = ['other'], inplace = True)\n",
    "\n",
    "df_train"
   ]
  },
  {
   "cell_type": "markdown",
   "metadata": {
    "id": "G6eQYY5w9bAC"
   },
   "source": [
    "<h2 dir=rtl align=right style=\"line-height:200%;font-family:vazir;color:#0099cc\">\n",
    "<font face=\"vazir\" color=\"#0099cc\">\n",
    "پیش‌پردازش\n",
    "</font>\n",
    "</h2>"
   ]
  },
  {
   "cell_type": "code",
   "execution_count": 8,
   "metadata": {
    "colab": {
     "base_uri": "https://localhost:8080/"
    },
    "executionInfo": {
     "elapsed": 1285,
     "status": "ok",
     "timestamp": 1727289666127,
     "user": {
      "displayName": "Helia Ranjbar",
      "userId": "11969437618372335012"
     },
     "user_tz": -210
    },
    "id": "OTeLYJjQ9bAC",
    "outputId": "ccaef5b6-fef9-4d17-b733-f707b66fc3c6"
   },
   "outputs": [
    {
     "name": "stdout",
     "output_type": "stream",
     "text": [
      "Found 8829 files belonging to 11 classes.\n",
      "Using 7064 files for training.\n",
      "Class names: ['0', '1', '10', '2', '3', '4', '5', '6', '7', '8', '9']\n",
      "Found 8829 files belonging to 11 classes.\n",
      "Using 1765 files for validation.\n",
      "Found 1201 files.\n"
     ]
    }
   ],
   "source": [
    "import tensorflow as tf\n",
    "from keras.utils import image_dataset_from_directory\n",
    "\n",
    "train_dataset = image_dataset_from_directory(\n",
    "    directory = './train/',\n",
    "    labels='inferred',\n",
    "    color_mode='rgb',\n",
    "    shuffle = True,\n",
    "    label_mode = 'categorical',\n",
    "    batch_size=32,\n",
    "    image_size=(224, 224),\n",
    "    interpolation='bilinear',\n",
    "    validation_split =  0.2,\n",
    "    subset = 'training',\n",
    "    seed = 42\n",
    ")\n",
    "\n",
    "# find the class names so in prediction time we can map the predictions to the painters properly\n",
    "class_names = train_dataset.class_names\n",
    "print('Class names:', class_names)\n",
    "\n",
    "val_dataset = image_dataset_from_directory(\n",
    "    directory = './train/',\n",
    "    labels='inferred',\n",
    "    color_mode='rgb',\n",
    "    shuffle = True,\n",
    "    label_mode = 'categorical',\n",
    "    batch_size=32,\n",
    "    image_size=(224, 224),\n",
    "    interpolation='bilinear',\n",
    "    validation_split =  0.2,\n",
    "    subset = 'validation',\n",
    "    seed = 42\n",
    ")\n",
    "\n",
    "test = image_dataset_from_directory(\n",
    "    directory = './test/',\n",
    "    labels='inferred',\n",
    "    color_mode='rgb',\n",
    "    shuffle = False,\n",
    "    label_mode = None,\n",
    "    batch_size=32,\n",
    "    image_size=(224, 224),\n",
    "    interpolation='bilinear'\n",
    "\n",
    ")"
   ]
  },
  {
   "cell_type": "code",
   "execution_count": null,
   "metadata": {},
   "outputs": [],
   "source": [
    "file_paths = test.file_paths"
   ]
  },
  {
   "cell_type": "code",
   "execution_count": 10,
   "metadata": {
    "executionInfo": {
     "elapsed": 6,
     "status": "ok",
     "timestamp": 1727289666129,
     "user": {
      "displayName": "Helia Ranjbar",
      "userId": "11969437618372335012"
     },
     "user_tz": -210
    },
    "id": "9_tH2BTiNySJ"
   },
   "outputs": [],
   "source": [
    "from keras.applications.resnet50 import preprocess_input\n",
    "\n",
    "# Preprocess the data\n",
    "train_dataset = train_dataset.map(lambda x, y: (preprocess_input(x), y)) # apply the preprocess_input function to the train_dataset\n",
    "val_dataset = val_dataset.map(lambda x, y: (preprocess_input(x), y)) # apply the preprocess_input function to the val_dataset\n",
    "test = test.map(lambda x: (preprocess_input(x)))"
   ]
  },
  {
   "cell_type": "markdown",
   "metadata": {
    "id": "SMaOGNR09bAC"
   },
   "source": [
    "<h2 dir=rtl align=right style=\"line-height:200%;font-family:vazir;color:#0099cc\">\n",
    "<font face=\"vazir\" color=\"#0099cc\">\n",
    "مدل‌سازی\n",
    "</font>\n",
    "</h2>"
   ]
  },
  {
   "cell_type": "code",
   "execution_count": 11,
   "metadata": {
    "colab": {
     "base_uri": "https://localhost:8080/"
    },
    "executionInfo": {
     "elapsed": 2960,
     "status": "ok",
     "timestamp": 1727289669084,
     "user": {
      "displayName": "Helia Ranjbar",
      "userId": "11969437618372335012"
     },
     "user_tz": -210
    },
    "id": "uUPbjdnO9bAD",
    "outputId": "6843ab11-e8cb-4d8e-8708-f57ec8a564f6"
   },
   "outputs": [
    {
     "name": "stdout",
     "output_type": "stream",
     "text": [
      "Downloading data from https://storage.googleapis.com/tensorflow/keras-applications/resnet/resnet50_weights_tf_dim_ordering_tf_kernels_notop.h5\n",
      "\u001b[1m94765736/94765736\u001b[0m \u001b[32m━━━━━━━━━━━━━━━━━━━━\u001b[0m\u001b[37m\u001b[0m \u001b[1m1s\u001b[0m 0us/step\n"
     ]
    }
   ],
   "source": [
    "# Model design\n",
    "model = keras.applications.ResNet50(input_shape= (224, 224, 3),\n",
    "                                weights= 'imagenet',\n",
    "                                include_top= False,\n",
    "                                pooling= 'avg')\n",
    "model.trainable = False"
   ]
  },
  {
   "cell_type": "code",
   "execution_count": 12,
   "metadata": {
    "executionInfo": {
     "elapsed": 5,
     "status": "ok",
     "timestamp": 1727289669085,
     "user": {
      "displayName": "Helia Ranjbar",
      "userId": "11969437618372335012"
     },
     "user_tz": -210
    },
    "id": "3435-F1pN7hw"
   },
   "outputs": [],
   "source": [
    "from keras.optimizers import Adam\n",
    "model.compile(optimizer = 'adam',\n",
    "              loss='categorical_crossentropy',\n",
    "              metrics=['accuracy'])"
   ]
  },
  {
   "cell_type": "code",
   "execution_count": 14,
   "metadata": {
    "colab": {
     "base_uri": "https://localhost:8080/"
    },
    "executionInfo": {
     "elapsed": 5840034,
     "status": "ok",
     "timestamp": 1727298578552,
     "user": {
      "displayName": "Helia Ranjbar",
      "userId": "11969437618372335012"
     },
     "user_tz": -210
    },
    "id": "vcbT0E1ZN-xr",
    "outputId": "e49d9cd3-1082-4730-a73c-37fc74918ad1"
   },
   "outputs": [
    {
     "name": "stdout",
     "output_type": "stream",
     "text": [
      "Epoch 1/5\n",
      "\u001b[1m221/221\u001b[0m \u001b[32m━━━━━━━━━━━━━━━━━━━━\u001b[0m\u001b[37m\u001b[0m \u001b[1m1720s\u001b[0m 8s/step - accuracy: 0.8090 - loss: 0.5929 - val_accuracy: 0.8130 - val_loss: 0.5373\n",
      "Epoch 2/5\n",
      "\u001b[1m221/221\u001b[0m \u001b[32m━━━━━━━━━━━━━━━━━━━━\u001b[0m\u001b[37m\u001b[0m \u001b[1m1703s\u001b[0m 8s/step - accuracy: 0.8572 - loss: 0.4109 - val_accuracy: 0.8300 - val_loss: 0.5358\n",
      "Epoch 3/5\n",
      "\u001b[1m221/221\u001b[0m \u001b[32m━━━━━━━━━━━━━━━━━━━━\u001b[0m\u001b[37m\u001b[0m \u001b[1m1751s\u001b[0m 8s/step - accuracy: 0.8955 - loss: 0.3099 - val_accuracy: 0.8453 - val_loss: 0.4934\n",
      "Epoch 4/5\n",
      "\u001b[1m221/221\u001b[0m \u001b[32m━━━━━━━━━━━━━━━━━━━━\u001b[0m\u001b[37m\u001b[0m \u001b[1m1646s\u001b[0m 7s/step - accuracy: 0.9080 - loss: 0.2677 - val_accuracy: 0.8516 - val_loss: 0.4700\n",
      "Epoch 5/5\n",
      "\u001b[1m221/221\u001b[0m \u001b[32m━━━━━━━━━━━━━━━━━━━━\u001b[0m\u001b[37m\u001b[0m \u001b[1m1693s\u001b[0m 8s/step - accuracy: 0.9334 - loss: 0.2019 - val_accuracy: 0.8448 - val_loss: 0.5126\n"
     ]
    }
   ],
   "source": [
    "epochs = 5\n",
    "batch_size = 128\n",
    "history = model.fit(\n",
    "   train_dataset,\n",
    "   epochs=epochs,\n",
    "   batch_size= batch_size,\n",
    "   validation_data=(val_dataset))"
   ]
  },
  {
   "cell_type": "markdown",
   "metadata": {
    "id": "eSpKW0jJ9bAD"
   },
   "source": [
    "<h3 dir=rtl align=right style=\"line-height:200%;font-family:vazir;color:#0099cc\">\n",
    "<font face=\"vazir\" color=\"#0099cc\">\n",
    "معیار ارزیابی\n",
    "</font>\n",
    "</h3>\n",
    "\n",
    "<p dir=rtl style=\"direction: rtl; text-align: justify; line-height:200%; font-family:vazir; font-size:medium\">\n",
    "<font face=\"vazir\" size=3>\n",
    "هدف این است که مدل دسته‌بندی یک محصول را با دقت بالا پیش‌بینی کند، بنابراین در این پروژه از معیار  <code>Accuracy</code> جهت ارزیابی نتایج مدل استفاده کردیم.\n",
    "</font>\n",
    "</p>"
   ]
  },
  {
   "cell_type": "markdown",
   "metadata": {
    "id": "a_DUHsd69bAE"
   },
   "source": [
    "<h3 align=right style=\"line-height:200%;font-family:vazir;color:#0099cc\">\n",
    "<font face=\"vazir\" color=\"#0099cc\">\n",
    "ساختار خروجی برای نمونه‌های آزمون\n",
    "</font>\n",
    "</h3>\n",
    "\n",
    "<p dir=rtl style=\"direction: rtl; text-align: justify; line-height:200%; font-family:vazir; font-size:medium\">\n",
    "<font face=\"vazir\" size=3>\n",
    " پیش‌بینی مدل را برای نمونه‌های آزمون به‌شکل برچسبی بین ۰ تا ۱۰ تولید کرده و در ستون <code>cat_id</code> یک دیتافریم با نام <code>submission</code> در قالب جدول زیر ذخیره می کنیم..\n",
    "</font>\n",
    "</p>\n",
    "\n",
    "<center>\n",
    "<div dir=rtl style=\"direction: rtl;line-height:200%;font-family:vazir;font-size:medium\">\n",
    "<font face=\"vazir\" size=3>\n",
    "    \n",
    "|ستون|توضیحات|\n",
    "|:------:|:---:|\n",
    "|<code>image_name</code>|نام فایل تصویر (مشابه با نمونه‌ی آزمون)|\n",
    "|<code>cat_id</code>|برچسب/شناسه‌ی دسته (پیش‌بینی مدل)|\n",
    "    "
   ]
  },
  {
   "cell_type": "code",
   "execution_count": null,
   "metadata": {
    "colab": {
     "base_uri": "https://localhost:8080/"
    },
    "id": "BYb5E0KxSM0N",
    "outputId": "404bc0ab-80c1-49bc-baab-5af358f4d35c"
   },
   "outputs": [
    {
     "name": "stdout",
     "output_type": "stream",
     "text": [
      "\u001b[1m38/38\u001b[0m \u001b[32m━━━━━━━━━━━━━━━━━━━━\u001b[0m\u001b[37m\u001b[0m \u001b[1m228s\u001b[0m 6s/step\n"
     ]
    }
   ],
   "source": [
    "predict = model.predict(test)"
   ]
  },
  {
   "cell_type": "code",
   "execution_count": null,
   "metadata": {
    "id": "cSD3SwaJ9bAE"
   },
   "outputs": [],
   "source": [
    "class_names = ['0', '1', '10', '2', '3', '4', '5', '6', '7', '8', '9']\n",
    "\n",
    "\n",
    "max_indices = np.argmax(predict, axis=1)\n",
    "\n",
    "selected_elements = [class_names[idx] for idx in max_indices]\n",
    "\n",
    "submission = pd.DataFrame(columns=['image_name', 'cat_id'])\n",
    "submission['image_name'] = file_paths\n",
    "submission['cat_id'] = selected_elements\n",
    "\n",
    "'''submission['artist'] = submission['artist'].astype(int)\n",
    "submission['artist'] = submission['artist'].map(painter_dict)'''\n",
    "\n",
    "\n",
    "\n",
    "submission[['other','image_name']] = submission['image_name'].str.split('/', n=1, expand=True)\n",
    "submission[['other' , 'image_name']] = submission['image_name'].str.rsplit('/', n=1, expand=True)\n",
    "\n",
    "submission.drop(columns=['other'], inplace=True)\n",
    "\n",
    "submission"
   ]
  }
 ],
 "metadata": {
  "colab": {
   "provenance": []
  },
  "kernelspec": {
   "display_name": "py311",
   "language": "python",
   "name": "python3"
  },
  "language_info": {
   "name": "python",
   "version": "3.11.5"
  }
 },
 "nbformat": 4,
 "nbformat_minor": 0
}
